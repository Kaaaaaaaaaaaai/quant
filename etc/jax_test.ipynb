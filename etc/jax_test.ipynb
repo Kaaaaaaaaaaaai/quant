{
 "cells": [
  {
   "cell_type": "code",
   "execution_count": 1,
   "id": "5389dfd2",
   "metadata": {},
   "outputs": [],
   "source": [
    "import jax\n",
    "import jax.numpy as jnp\n",
    "import numpy as np\n",
    "import pickle"
   ]
  },
  {
   "cell_type": "code",
   "execution_count": 2,
   "id": "6980a0da",
   "metadata": {},
   "outputs": [
    {
     "data": {
      "text/plain": [
       "(3,)"
      ]
     },
     "execution_count": 2,
     "metadata": {},
     "output_type": "execute_result"
    }
   ],
   "source": [
    "jnp.asarray([1, 2, 3]).shape"
   ]
  },
  {
   "cell_type": "code",
   "execution_count": 6,
   "id": "dbe594ad",
   "metadata": {},
   "outputs": [
    {
     "data": {
      "text/plain": [
       "Array([1, 2, 3, 4], dtype=int32)"
      ]
     },
     "execution_count": 6,
     "metadata": {},
     "output_type": "execute_result"
    }
   ],
   "source": [
    "jnp.concatenate((jnp.asarray([1, 2]), jnp.asarray([3, 4])))"
   ]
  },
  {
   "cell_type": "code",
   "execution_count": null,
   "id": "41418c97",
   "metadata": {},
   "outputs": [],
   "source": []
  },
  {
   "cell_type": "code",
   "execution_count": 26,
   "id": "738575ea",
   "metadata": {},
   "outputs": [],
   "source": [
    "def _jax_optimize(r:jnp.ndarray, s:jnp.ndarray, rho:jnp.ndarray, target_return=None, risk_free_rate=0.0, max_epochs:int = 1000, lr:float = 0.01, device = \"cpu\") -> np.ndarray:\n",
    "\n",
    "    print(\"Using JAX for optimization...\")\n",
    "\n",
    "    n_assets = len(r)\n",
    "    \n",
    "    if device == \"cpu\":\n",
    "        jax.config.update(\"jax_platform_name\", \"cpu\")\n",
    "    elif device == \"gpu\" or device == \"cuda\":\n",
    "        jax.config.update(\"jax_platform_name\", \"gpu\")\n",
    "    else:\n",
    "        raise ValueError(\"Device must be either 'cpu' or 'gpu' or 'cuda'.\")\n",
    "\n",
    "    # mistakes in implementation?\n",
    "    @jax.jit\n",
    "    def neg_sharp_ratio(weights:jnp.ndarray):\n",
    "\n",
    "        weights = jnp.clip(weights, min=0.0)\n",
    "        weights = weights / jnp.sum(weights)\n",
    "\n",
    "        return - (weights.T @ r - risk_free_rate)\\\n",
    "              / jnp.sqrt(\n",
    "                  weights.T @ (rho * (s[:, None] @ s[None, :])) @ weights\n",
    "              )\n",
    "\n",
    "    grad_fn = jax.grad(neg_sharp_ratio)\n",
    "\n",
    "    weights = jnp.array(np.random.uniform(0.0, 1.0, n_assets))\n",
    "\n",
    "    for epoch in range(max_epochs):\n",
    "\n",
    "        loss = neg_sharp_ratio(weights)\n",
    "        \n",
    "        grad = grad_fn(weights)\n",
    "        weights = weights - lr * grad\n",
    "\n",
    "        if (epoch+1) % (max_epochs // 10) == 0:\n",
    "            print(f\"Epoch {epoch+1}/{max_epochs}, Loss: {loss:.4f}\")\n",
    "\n",
    "    weights = jnp.clip(weights, min=0.0)\n",
    "    weights = weights / jnp.sum(weights)\n",
    "    return np.array(weights)"
   ]
  },
  {
   "cell_type": "code",
   "execution_count": 27,
   "id": "6f9640f2",
   "metadata": {},
   "outputs": [
    {
     "name": "stdout",
     "output_type": "stream",
     "text": [
      "Using JAX for optimization...\n",
      "Epoch 100/1000, Loss: -0.4717\n",
      "Epoch 200/1000, Loss: -0.4762\n",
      "Epoch 300/1000, Loss: -0.4807\n",
      "Epoch 400/1000, Loss: -0.4851\n",
      "Epoch 500/1000, Loss: -0.4895\n",
      "Epoch 600/1000, Loss: -0.4940\n",
      "Epoch 700/1000, Loss: -0.4983\n",
      "Epoch 800/1000, Loss: -0.5027\n",
      "Epoch 900/1000, Loss: -0.5071\n",
      "Epoch 1000/1000, Loss: -0.5115\n"
     ]
    }
   ],
   "source": [
    "_, r, s = pickle.load(open(\"../results/stock/statistics.pkl\", \"rb\"))\n",
    "rho = pickle.load(open(\"../results/stock/correlation_matrix.pkl\", \"rb\"))\n",
    "\n",
    "opt_weights = _jax_optimize(r, s, rho, risk_free_rate=0, max_epochs=1000, lr=0.1, device=\"gpu\")"
   ]
  },
  {
   "cell_type": "code",
   "execution_count": 22,
   "id": "16f6b23b",
   "metadata": {},
   "outputs": [
    {
     "name": "stderr",
     "output_type": "stream",
     "text": [
      "/tmp/ipykernel_4460/43057264.py:4: RuntimeWarning: invalid value encountered in sqrt\n",
      "  (weights.T @ r - risk_free_rate) , np.sqrt(weights.T @ (rho * (s[:, None] @ s[None, :]))) @ weights\n"
     ]
    },
    {
     "data": {
      "text/plain": [
       "(np.float64(204.84745448262635), np.float64(nan))"
      ]
     },
     "execution_count": 22,
     "metadata": {},
     "output_type": "execute_result"
    }
   ],
   "source": [
    "weights = np.random.uniform(0.0, 1.0, len(r))\n",
    "risk_free_rate = 0.04\n",
    "\n",
    "(weights.T @ r - risk_free_rate) , np.sqrt(weights.T @ (rho * (s[:, None] @ s[None, :]))) @ weights"
   ]
  },
  {
   "cell_type": "code",
   "execution_count": 25,
   "id": "557b761c",
   "metadata": {},
   "outputs": [
    {
     "data": {
      "text/plain": [
       "np.float64(202294.4203934044)"
      ]
     },
     "execution_count": 25,
     "metadata": {},
     "output_type": "execute_result"
    }
   ],
   "source": [
    "weights.T @ (rho * (s[:, None] @ s[None, :])) @ weights"
   ]
  }
 ],
 "metadata": {
  "kernelspec": {
   "display_name": ".venv",
   "language": "python",
   "name": "python3"
  },
  "language_info": {
   "codemirror_mode": {
    "name": "ipython",
    "version": 3
   },
   "file_extension": ".py",
   "mimetype": "text/x-python",
   "name": "python",
   "nbconvert_exporter": "python",
   "pygments_lexer": "ipython3",
   "version": "3.13.2"
  }
 },
 "nbformat": 4,
 "nbformat_minor": 5
}
