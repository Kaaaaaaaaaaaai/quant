{
 "cells": [
  {
   "cell_type": "code",
   "execution_count": 1,
   "id": "8aac4951",
   "metadata": {},
   "outputs": [],
   "source": [
    "import polars as pl\n",
    "import matplotlib.pyplot as plt\n",
    "import japanize_matplotlib\n",
    "import yfinance as yf\n",
    "from math import ceil"
   ]
  },
  {
   "cell_type": "code",
   "execution_count": 2,
   "id": "f570a7f8",
   "metadata": {},
   "outputs": [],
   "source": [
    "stock_ref = pl.read_csv(\"../resources/all_stock.csv\").select(\"コード\", \"銘柄名\")\n",
    "trust_ref = pl.read_csv(\"../resources/all_trust.csv\")"
   ]
  },
  {
   "cell_type": "code",
   "execution_count": 5,
   "id": "364efbeb",
   "metadata": {},
   "outputs": [],
   "source": [
    "# stocks\n",
    "df = pl.read_csv(\"../results/stock/optimized_portfolio.csv\").filter(pl.col(\"Weight\") > 0)\n",
    "df = df.join(stock_ref, left_on=\"Ticker\", right_on=\"コード\").sort(\"Weight\", descending=True)\n",
    "\n",
    "fig, axes = plt.subplots(ceil(len(df) / 5), 5, figsize = (30, 6* ceil(len(df) / 5)))\n",
    "axes = axes.flatten()\n",
    "\n",
    "for i, row in enumerate(df.iter_rows(named=True)):\n",
    "\n",
    "    ticker = row[\"Ticker\"] +\".T\"\n",
    "    ax = axes[i]\n",
    "    stock_data = yf.download(ticker, interval = \"5d\", period = \"max\", progress=False, auto_adjust=True)\n",
    "    color = plt.cm.copper(row[\"Weight\"])\n",
    "    stock_data[\"Close\"].plot(ax=ax, title=f\"{row['銘柄名']} ({row['Ticker']})\", legend=False, color=color)\n",
    "    ax.set_xlabel(\"\")\n",
    "\n",
    "fig.tight_layout()\n",
    "fig.savefig(\"../results/stock/stock_portfolio_summary.png\", dpi=300, bbox_inches='tight')\n",
    "plt.close()\n",
    "\n",
    "df.write_csv(\"../results/stock/stock_portfolio_summary.csv\")"
   ]
  },
  {
   "cell_type": "code",
   "execution_count": 8,
   "id": "372e6c56",
   "metadata": {},
   "outputs": [],
   "source": [
    "# trusts\n",
    "df = pl.read_csv(\"../results/trust/optimized_portfolio.csv\", schema_overrides={\"Ticker\":str, \"Weight\": pl.Float64}).filter(pl.col(\"Weight\") > 0.0)\n",
    "df = df.join(trust_ref, left_on=\"Ticker\", right_on=\"協会コード\").sort(\"Weight\", descending=True)\n",
    "\n",
    "fig, axes = plt.subplots(ceil(len(df) / 5), 5, figsize = (30, 6* ceil(len(df) / 5)))\n",
    "axes = axes.flatten()\n",
    "\n",
    "for i, row in enumerate(df.iter_rows(named=True)):\n",
    "\n",
    "    ticker = row[\"Ticker\"]\n",
    "    ax = axes[i]\n",
    "    stock_data = pl.read_csv(f\"../data/trust/{ticker}.csv\").select(\"年月日\", \"基準価額\").with_columns(pl.col(\"年月日\").str.strptime(pl.Date, format=r\"%Y-%m-%d\")).sort(\"年月日\")\n",
    "    color = plt.cm.copper(row[\"Weight\"])\n",
    "    ax.plot(stock_data[\"年月日\"], stock_data[\"基準価額\"], color=color)\n",
    "    ax.set_title(f\"{row['ファンド名']}\")\n",
    "    ax.tick_params(axis='x', rotation=45)\n",
    "\n",
    "fig.tight_layout()\n",
    "fig.savefig(\"../results/trust/trust_portfolio_summary.png\", dpi=300, bbox_inches='tight')\n",
    "plt.close()\n",
    "\n",
    "df.write_csv(\"../results/trust/trust_portfolio_summary.csv\")"
   ]
  },
  {
   "cell_type": "code",
   "execution_count": 9,
   "id": "84553429",
   "metadata": {},
   "outputs": [],
   "source": [
    "df = pl.read_csv(\"../results/emaxis/optimized_portfolio.csv\").filter(pl.col(\"Weight\") > 0.0)\n",
    "df = df.join(trust_ref, left_on=\"Ticker\", right_on=\"協会コード\").sort(\"Weight\", descending=True)\n",
    "\n",
    "fig, axes = plt.subplots(ceil(len(df) / 5), 5, figsize = (30, 6* ceil(len(df) / 5)))\n",
    "axes = axes.flatten()\n",
    "\n",
    "for i, row in enumerate(df.iter_rows(named=True)):\n",
    "\n",
    "    ticker = row[\"Ticker\"]\n",
    "    ax = axes[i]\n",
    "    stock_data = pl.read_csv(f\"../data/trust/{ticker}.csv\").select(\"年月日\", \"基準価額\").with_columns(pl.col(\"年月日\").str.strptime(pl.Date, format=r\"%Y-%m-%d\")).sort(\"年月日\")\n",
    "    color = plt.cm.copper(row[\"Weight\"])\n",
    "    ax.plot(stock_data[\"年月日\"], stock_data[\"基準価額\"], color=color)\n",
    "    ax.set_title(f\"{row['ファンド名']}\")\n",
    "    ax.tick_params(axis='x', rotation=45)\n",
    "\n",
    "fig.tight_layout()\n",
    "fig.savefig(\"../results/emaxis/trust_portfolio_summary.png\", dpi=300, bbox_inches='tight')\n",
    "plt.close()\n",
    "\n",
    "df.write_csv(\"../results/emaxis/trust_portfolio_summary.csv\")"
   ]
  }
 ],
 "metadata": {
  "kernelspec": {
   "display_name": ".venv",
   "language": "python",
   "name": "python3"
  },
  "language_info": {
   "codemirror_mode": {
    "name": "ipython",
    "version": 3
   },
   "file_extension": ".py",
   "mimetype": "text/x-python",
   "name": "python",
   "nbconvert_exporter": "python",
   "pygments_lexer": "ipython3",
   "version": "3.14.0"
  }
 },
 "nbformat": 4,
 "nbformat_minor": 5
}
