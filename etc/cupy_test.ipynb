{
 "cells": [
  {
   "cell_type": "code",
   "execution_count": 1,
   "id": "ad3a2060",
   "metadata": {},
   "outputs": [],
   "source": [
    "import cupy as cp\n",
    "import numpy as np\n",
    "\n",
    "import time"
   ]
  },
  {
   "cell_type": "code",
   "execution_count": 2,
   "id": "b2012718",
   "metadata": {},
   "outputs": [
    {
     "data": {
      "text/plain": [
       "array([ 4., 10., 18.], dtype=float32)"
      ]
     },
     "execution_count": 2,
     "metadata": {},
     "output_type": "execute_result"
    }
   ],
   "source": [
    "tensor_mul = cp.ElementwiseKernel(in_params = \"float32 x, float32 y\", out_params = \"float32 z\", operation = \"z = x * y\", name = \"tensor_mul\")\n",
    "\n",
    "tensor_mul(cp.array([1, 2, 3], dtype=cp.float32), cp.array([4, 5, 6], dtype=cp.float32))"
   ]
  },
  {
   "cell_type": "code",
   "execution_count": 3,
   "id": "19a80305",
   "metadata": {},
   "outputs": [
    {
     "name": "stdout",
     "output_type": "stream",
     "text": [
      "Batched Result Shape: (1000, 100, 100)\n",
      "CuPy Batched Time: 0.05359697341918945 seconds\n",
      "Divided Result Shape: (1000, 100, 100)\n",
      "CuPy Divided Time: 0.0977480411529541 seconds\n",
      "Batched result is equal to divided result: True\n"
     ]
    }
   ],
   "source": [
    "batched_a = cp.random.rand(1000, 100, 100)\n",
    "batched_b = cp.random.rand(1000, 100, 100)\n",
    "\n",
    "start_time = time.time()\n",
    "# Perform batched matrix multiplication\n",
    "batched_result = cp.matmul(batched_a, batched_b)\n",
    "end_time = time.time()\n",
    "\n",
    "print(f\"Batched Result Shape: {batched_result.shape}\")\n",
    "print(f\"CuPy Batched Time: {end_time - start_time} seconds\")\n",
    "\n",
    "\n",
    "start_time = time.time()\n",
    "divided_result = cp.array([cp.dot(batched_a[i, ::], batched_b[i, ::]) for i in range(1000)])\n",
    "end_time = time.time()\n",
    "print(f\"Divided Result Shape: {divided_result.shape}\")\n",
    "print(f\"CuPy Divided Time: {end_time - start_time} seconds\")\n",
    "\n",
    "print(\"Batched result is equal to divided result:\", cp.allclose(batched_result, divided_result))\n"
   ]
  },
  {
   "cell_type": "code",
   "execution_count": 4,
   "id": "a6cd1f7b",
   "metadata": {},
   "outputs": [
    {
     "data": {
      "text/plain": [
       "(10, 10)"
      ]
     },
     "execution_count": 4,
     "metadata": {},
     "output_type": "execute_result"
    }
   ],
   "source": [
    "batched_a = cp.random.rand(10, 100)\n",
    "\n",
    "def corr_batch(A:cp.ndarray) -> cp.ndarray:\n",
    "\n",
    "    numerator = cp.dot(A, A.T)\n",
    "    denominator = cp.sqrt(\n",
    "        cp.dot(\n",
    "            cp.dot(\n",
    "                (cp.dot(A, A.T) * cp.eye(A.shape[0])), cp.ones((A.shape[0], A.shape[0]))\n",
    "            ),\n",
    "            (cp.dot(A, A.T) * cp.eye(A.shape[0]))\n",
    "        )\n",
    "    )\n",
    "\n",
    "    return numerator / denominator\n",
    "\n",
    "corr_batch(batched_a).shape\n"
   ]
  },
  {
   "cell_type": "code",
   "execution_count": 5,
   "id": "d7c20f69",
   "metadata": {},
   "outputs": [
    {
     "data": {
      "text/plain": [
       "(3, 3)"
      ]
     },
     "execution_count": 5,
     "metadata": {},
     "output_type": "execute_result"
    }
   ],
   "source": [
    "batched_a = np.random.rand(3, 100)\n",
    "\n",
    "def corr_batch_np(A:np.ndarray) -> np.ndarray:\n",
    "\n",
    "    numerator = np.dot(A, A.T)\n",
    "    denominator = np.sqrt(\n",
    "        np.dot(\n",
    "            np.dot(\n",
    "                (np.dot(A, A.T) * np.eye(A.shape[0])), np.ones((A.shape[0], A.shape[0]))\n",
    "            ),\n",
    "            (np.dot(A, A.T) * np.eye(A.shape[0]))\n",
    "        )\n",
    "    )\n",
    "\n",
    "    return numerator / denominator\n",
    "\n",
    "corr_batch_np(batched_a).shape"
   ]
  },
  {
   "cell_type": "code",
   "execution_count": 6,
   "id": "2bcbbaaa",
   "metadata": {},
   "outputs": [],
   "source": [
    "def legacy_corr(A:np.ndarray) -> np.ndarray:\n",
    "\n",
    "    rho = np.array([[np.corrcoef(A[i, ::], A[j, ::])[0, 1] for j in range(A.shape[0])] for i in range(A.shape[0])])\n",
    "\n",
    "    return rho"
   ]
  },
  {
   "cell_type": "code",
   "execution_count": 7,
   "id": "44c89de1",
   "metadata": {},
   "outputs": [],
   "source": [
    "A = np.random.rand(10, 100)\n",
    "np.testing.assert_allclose(legacy_corr(A), corr_batch_np(A - np.mean(A, axis=1, keepdims=True)))"
   ]
  },
  {
   "cell_type": "code",
   "execution_count": 8,
   "id": "e4a14e66",
   "metadata": {},
   "outputs": [
    {
     "name": "stdout",
     "output_type": "stream",
     "text": [
      "Legacy implementation: 49.12901020050049 seconds\n",
      "numpy implementation: 0.06891942024230957 seconds\n",
      "CuPy implementation: 0.03535175323486328 seconds\n"
     ]
    }
   ],
   "source": [
    "A = np.random.rand(1000, 100)\n",
    "\n",
    "start_time = time.time()\n",
    "_ = legacy_corr(A)\n",
    "end_time = time.time()\n",
    "print(f\"Legacy implementation: {end_time - start_time} seconds\")\n",
    "\n",
    "start_time = time.time()\n",
    "_ = corr_batch_np(A - np.mean(A, axis=1, keepdims=True))\n",
    "end_time = time.time()\n",
    "print(f\"numpy implementation: {end_time - start_time} seconds\")\n",
    "\n",
    "A = cp.array(A)\n",
    "\n",
    "start_time = time.time()\n",
    "_ = corr_batch(A - cp.mean(A, axis=1, keepdims=True))\n",
    "end_time = time.time()\n",
    "print(f\"CuPy implementation: {end_time - start_time} seconds\")"
   ]
  },
  {
   "cell_type": "code",
   "execution_count": null,
   "id": "9d14b80c",
   "metadata": {},
   "outputs": [
    {
     "ename": "TypeError",
     "evalue": "iteration over a 0-d array",
     "output_type": "error",
     "traceback": [
      "\u001b[31m---------------------------------------------------------------------------\u001b[39m",
      "\u001b[31mTypeError\u001b[39m                                 Traceback (most recent call last)",
      "\u001b[36mCell\u001b[39m\u001b[36m \u001b[39m\u001b[32mIn[8]\u001b[39m\u001b[32m, line 10\u001b[39m\n\u001b[32m      7\u001b[39m     bar = jnp.sum(x) - \u001b[32m1.0\u001b[39m\n\u001b[32m      8\u001b[39m     \u001b[38;5;28;01mreturn\u001b[39;00m jnp.array([*bar])\n\u001b[32m---> \u001b[39m\u001b[32m10\u001b[39m \u001b[38;5;28mlen\u001b[39m(\u001b[43mfoo\u001b[49m\u001b[43m(\u001b[49m\u001b[43mjnp\u001b[49m\u001b[43m.\u001b[49m\u001b[43marray\u001b[49m\u001b[43m(\u001b[49m\u001b[43m[\u001b[49m\u001b[32;43m1\u001b[39;49m\u001b[43m,\u001b[49m\u001b[43m \u001b[49m\u001b[32;43m2\u001b[39;49m\u001b[43m,\u001b[49m\u001b[43m \u001b[49m\u001b[32;43m3\u001b[39;49m\u001b[43m]\u001b[49m\u001b[43m)\u001b[49m\u001b[43m)\u001b[49m)  \u001b[38;5;66;03m# Should return 3\u001b[39;00m\n",
      "    \u001b[31m[... skipping hidden 14 frame]\u001b[39m\n",
      "\u001b[36mCell\u001b[39m\u001b[36m \u001b[39m\u001b[32mIn[8]\u001b[39m\u001b[32m, line 8\u001b[39m, in \u001b[36mfoo\u001b[39m\u001b[34m(x)\u001b[39m\n\u001b[32m      5\u001b[39m \u001b[38;5;129m@jax\u001b[39m.jit\n\u001b[32m      6\u001b[39m \u001b[38;5;28;01mdef\u001b[39;00m\u001b[38;5;250m \u001b[39m\u001b[34mfoo\u001b[39m(x: jnp.ndarray) -> jnp.ndarray:\n\u001b[32m      7\u001b[39m     bar = jnp.sum(x) - \u001b[32m1.0\u001b[39m\n\u001b[32m----> \u001b[39m\u001b[32m8\u001b[39m     \u001b[38;5;28;01mreturn\u001b[39;00m jnp.array([*bar])\n",
      "    \u001b[31m[... skipping hidden 1 frame]\u001b[39m\n",
      "\u001b[36mFile \u001b[39m\u001b[32m/home/projects/quant/.venv/lib/python3.13/site-packages/jax/_src/lax/lax.py:3708\u001b[39m, in \u001b[36m_iter\u001b[39m\u001b[34m(tracer)\u001b[39m\n\u001b[32m   3706\u001b[39m \u001b[38;5;28;01mdef\u001b[39;00m\u001b[38;5;250m \u001b[39m\u001b[34m_iter\u001b[39m(tracer):\n\u001b[32m   3707\u001b[39m   \u001b[38;5;28;01mif\u001b[39;00m tracer.ndim == \u001b[32m0\u001b[39m:\n\u001b[32m-> \u001b[39m\u001b[32m3708\u001b[39m     \u001b[38;5;28;01mraise\u001b[39;00m \u001b[38;5;167;01mTypeError\u001b[39;00m(\u001b[33m\"\u001b[39m\u001b[33miteration over a 0-d array\u001b[39m\u001b[33m\"\u001b[39m)  \u001b[38;5;66;03m# same as numpy error\u001b[39;00m\n\u001b[32m   3709\u001b[39m   \u001b[38;5;28;01melse\u001b[39;00m:\n\u001b[32m   3710\u001b[39m     n = \u001b[38;5;28mint\u001b[39m(tracer.shape[\u001b[32m0\u001b[39m])\n",
      "\u001b[31mTypeError\u001b[39m: iteration over a 0-d array"
     ]
    }
   ],
   "source": [
    "import jax\n",
    "import jax.numpy as jnp\n",
    "from functools import partial\n",
    "\n",
    "@jax.jit\n",
    "def foo(x: jnp.ndarray) -> jnp.ndarray:\n",
    "    bar = jnp.sum(x) - 1.0\n",
    "    return jnp.array([bar])\n",
    "\n",
    "len(foo(jnp.array([1, 2, 3])))  # Should return 3"
   ]
  }
 ],
 "metadata": {
  "kernelspec": {
   "display_name": ".venv",
   "language": "python",
   "name": "python3"
  },
  "language_info": {
   "codemirror_mode": {
    "name": "ipython",
    "version": 3
   },
   "file_extension": ".py",
   "mimetype": "text/x-python",
   "name": "python",
   "nbconvert_exporter": "python",
   "pygments_lexer": "ipython3",
   "version": "3.13.2"
  }
 },
 "nbformat": 4,
 "nbformat_minor": 5
}
