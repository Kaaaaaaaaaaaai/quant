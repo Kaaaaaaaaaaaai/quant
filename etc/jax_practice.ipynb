{
 "cells": [
  {
   "cell_type": "code",
   "execution_count": 2,
   "id": "88ce6093",
   "metadata": {},
   "outputs": [],
   "source": [
    "import jax\n",
    "import jax.numpy as jnp"
   ]
  },
  {
   "cell_type": "code",
   "execution_count": 3,
   "id": "078a3053",
   "metadata": {},
   "outputs": [
    {
     "data": {
      "text/plain": [
       "Array([0, 0, 0, 1, 2, 3], dtype=int32)"
      ]
     },
     "execution_count": 3,
     "metadata": {},
     "output_type": "execute_result"
    }
   ],
   "source": [
    "a = jnp.array([-1, -2, -3, 1, 2, 3])\n",
    "a.at[:3].apply(jax.nn.relu)"
   ]
  },
  {
   "cell_type": "code",
   "execution_count": 6,
   "id": "1b349f62",
   "metadata": {},
   "outputs": [
    {
     "data": {
      "text/plain": [
       "Array([-1, -2, -3], dtype=int32)"
      ]
     },
     "execution_count": 6,
     "metadata": {},
     "output_type": "execute_result"
    }
   ],
   "source": [
    "a[:3]"
   ]
  },
  {
   "cell_type": "code",
   "execution_count": 6,
   "id": "9ac9eb24",
   "metadata": {},
   "outputs": [
    {
     "data": {
      "text/plain": [
       "Array(1.6493362, dtype=float32)"
      ]
     },
     "execution_count": 6,
     "metadata": {},
     "output_type": "execute_result"
    }
   ],
   "source": [
    "def func1(x, mu):\n",
    "\n",
    "    return x[0] * mu + x[1]\n",
    "x = jnp.array([jnp.pi / 4, jnp.pi / 2])\n",
    "func1(x, 0.1)"
   ]
  },
  {
   "cell_type": "code",
   "execution_count": 7,
   "id": "f75afcb6",
   "metadata": {},
   "outputs": [
    {
     "data": {
      "text/plain": [
       "Array([0.1, 1. ], dtype=float32)"
      ]
     },
     "execution_count": 7,
     "metadata": {},
     "output_type": "execute_result"
    }
   ],
   "source": [
    "grad = jax.grad(func1, argnums=0)\n",
    "grad(x, 0.1)"
   ]
  },
  {
   "cell_type": "code",
   "execution_count": 8,
   "id": "26c41a55",
   "metadata": {},
   "outputs": [
    {
     "data": {
      "text/plain": [
       "Array([0.2, 1. ], dtype=float32)"
      ]
     },
     "execution_count": 8,
     "metadata": {},
     "output_type": "execute_result"
    }
   ],
   "source": [
    "grad(x, 0.2)"
   ]
  },
  {
   "cell_type": "code",
   "execution_count": 16,
   "id": "f3790ce3",
   "metadata": {},
   "outputs": [
    {
     "data": {
      "text/plain": [
       "Array([0., 0., 1.], dtype=float32, weak_type=True)"
      ]
     },
     "execution_count": 16,
     "metadata": {},
     "output_type": "execute_result"
    }
   ],
   "source": [
    "jax.jacrev(func1, argnums = 1)(jnp.array([1.0, 2.0]), 1.0)"
   ]
  },
  {
   "cell_type": "code",
   "execution_count": 22,
   "id": "fc84e79a",
   "metadata": {},
   "outputs": [
    {
     "name": "stdout",
     "output_type": "stream",
     "text": [
      "[[-4. -8.]]\n",
      "[[-2. -4.]\n",
      " [-2. -4.]]\n"
     ]
    }
   ],
   "source": [
    "def func1(x):\n",
    "\n",
    "    return jnp.asarray([0.5 -  2* x.T@x])\n",
    "\n",
    "def func2(x):\n",
    "\n",
    "    return jnp.asarray([0.5 - x.T@x, 0.5 - x.T@x])\n",
    "\n",
    "x = jnp.array([1.0, 2.0])\n",
    "\n",
    "print(jax.jacrev(func1)(x))\n",
    "print(jax.jacrev(func2)(x))"
   ]
  },
  {
   "cell_type": "code",
   "execution_count": 31,
   "id": "38ba8577",
   "metadata": {},
   "outputs": [
    {
     "data": {
      "text/plain": [
       "Array([[-4., -2., -2.],\n",
       "       [-8., -4., -4.]], dtype=float32)"
      ]
     },
     "execution_count": 31,
     "metadata": {},
     "output_type": "execute_result"
    }
   ],
   "source": [
    "jnp.vstack([jax.jacrev(func1, argnums=0)(x), jax.jacrev(func2, argnums=0)(x)]).T"
   ]
  },
  {
   "cell_type": "code",
   "execution_count": 26,
   "id": "19f78a77",
   "metadata": {},
   "outputs": [
    {
     "data": {
      "text/plain": [
       "Array([-9.5, -4.5, -4.5], dtype=float32)"
      ]
     },
     "execution_count": 26,
     "metadata": {},
     "output_type": "execute_result"
    }
   ],
   "source": [
    "jnp.hstack([func1(x), func2(x)])"
   ]
  },
  {
   "cell_type": "code",
   "execution_count": 46,
   "id": "a138f406",
   "metadata": {},
   "outputs": [
    {
     "data": {
      "text/plain": [
       "Array(True, dtype=bool)"
      ]
     },
     "execution_count": 46,
     "metadata": {},
     "output_type": "execute_result"
    }
   ],
   "source": [
    "a = [1, 2, 3]\n",
    "b = [1]\n",
    "\n",
    "foo = jnp.asarray([*a, *b])\n",
    "(foo > 0).all()"
   ]
  },
  {
   "cell_type": "code",
   "execution_count": 45,
   "id": "0a117841",
   "metadata": {},
   "outputs": [
    {
     "data": {
      "text/plain": [
       "Array(False, dtype=bool)"
      ]
     },
     "execution_count": 45,
     "metadata": {},
     "output_type": "execute_result"
    }
   ],
   "source": [
    "bar = foo\n",
    "bar = bar.at[0].set(-5)\n",
    "(bar[:2] > 0).all()"
   ]
  },
  {
   "cell_type": "code",
   "execution_count": 38,
   "id": "6c277423",
   "metadata": {},
   "outputs": [
    {
     "data": {
      "text/plain": [
       "Array([-5,  2,  3,  1], dtype=int32)"
      ]
     },
     "execution_count": 38,
     "metadata": {},
     "output_type": "execute_result"
    }
   ],
   "source": [
    "bar"
   ]
  }
 ],
 "metadata": {
  "kernelspec": {
   "display_name": ".venv",
   "language": "python",
   "name": "python3"
  },
  "language_info": {
   "codemirror_mode": {
    "name": "ipython",
    "version": 3
   },
   "file_extension": ".py",
   "mimetype": "text/x-python",
   "name": "python",
   "nbconvert_exporter": "python",
   "pygments_lexer": "ipython3",
   "version": "3.13.2"
  }
 },
 "nbformat": 4,
 "nbformat_minor": 5
}
