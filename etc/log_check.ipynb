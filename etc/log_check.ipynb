{
 "cells": [
  {
   "cell_type": "code",
   "execution_count": 11,
   "id": "4ec932f4",
   "metadata": {},
   "outputs": [],
   "source": [
    "import polars as pl\n",
    "import re"
   ]
  },
  {
   "cell_type": "code",
   "execution_count": 3,
   "id": "b9b2ed54",
   "metadata": {},
   "outputs": [],
   "source": [
    "# data download\n",
    "missing_symbols = []\n",
    "\n",
    "with open(\"../log/data_download.py.log\", \"r\") as f:\n",
    "    \n",
    "    for line in f:\n",
    "\n",
    "        if line.startswith(\"$\"):\n",
    "\n",
    "            symbol = re.search(r\"[\\d, A-Z]{4}\\.T\", line)\n",
    "            if symbol: missing_symbols.append(symbol.group(0)[:-2])\n",
    "\n",
    "df = pl.read_csv(\"../resources/all_stock.csv\")\n",
    "missing_details = []\n",
    "\n",
    "for symbol in missing_symbols:\n",
    "\n",
    "    missing_details.append(df.filter(pl.col(\"コード\") == symbol).to_dicts()[0])\n",
    "\n",
    "missing_df = pl.DataFrame(missing_details)\n",
    "missing_df.write_csv(\"../resources/missing_stock.csv\")"
   ]
  },
  {
   "cell_type": "code",
   "execution_count": null,
   "id": "1d29ee43",
   "metadata": {},
   "outputs": [
    {
     "ename": "",
     "evalue": "",
     "output_type": "error",
     "traceback": [
      "\u001b[1;31mThe Kernel crashed while executing code in the current cell or a previous cell. \n",
      "\u001b[1;31mPlease review the code in the cell(s) to identify a possible cause of the failure. \n",
      "\u001b[1;31mClick <a href='https://aka.ms/vscodeJupyterKernelCrash'>here</a> for more info. \n",
      "\u001b[1;31mView Jupyter <a href='command:jupyter.viewOutput'>log</a> for further details."
     ]
    }
   ],
   "source": [
    "# data filtering\n",
    "discarded_stock_symbols = {}\n",
    "discarded_trust_symbols = {}\n",
    "\n",
    "with open(\"../log/data_filtering.py.log\", \"r\") as f:\n",
    "\n",
    "    for line in f:\n",
    "\n",
    "        if line.startswith(\">\"):\n",
    "\n",
    "            symbol = re.search(r\">[\\d, A-Z]{4},\", line)\n",
    "            reason = line.split(\", \")[1][:-1]\n",
    "\n",
    "            if symbol:\n",
    "                \n",
    "                discarded_stock_symbols[symbol.group(0)[1:-1]] = reason\n",
    "\n",
    "            else:\n",
    "\n",
    "                symbol = re.search(r\">[\\d, A-Z]{8},\", line)\n",
    "                if symbol:\n",
    "                    \n",
    "                    discarded_trust_symbols[symbol.group(0)[1:-1]] = reason\n",
    "\n",
    "df = pl.read_csv(\"../resources/all_stock.csv\")\n",
    "missing_stock_details = []\n",
    "\n",
    "for symbol, reason in discarded_stock_symbols.items():\n",
    "\n",
    "    entry = df.filter(pl.col(\"コード\") == symbol).to_dicts()[0]\n",
    "    entry[\"理由\"] = reason\n",
    "\n",
    "    missing_stock_details.append(entry)\n",
    "\n",
    "missing_stock_df = pl.DataFrame(missing_stock_details)\n",
    "missing_stock_df.write_csv(\"../resources/discarded_stock.csv\")\n",
    "\n",
    "df = pl.read_csv(\"../resources/all_trust.csv\")\n",
    "missing_trust_details = []\n",
    "\n",
    "for symbol, reason in discarded_trust_symbols.items():\n",
    "\n",
    "    entry = df.filter(pl.col(\"協会コード\") == symbol).to_dicts()[0]\n",
    "    entry[\"理由\"] = reason\n",
    "\n",
    "    missing_trust_details.append(entry)\n",
    "\n",
    "missing_trust_df = pl.DataFrame(missing_trust_details)\n",
    "missing_trust_df.write_csv(\"../resources/discarded_trust.csv\")"
   ]
  }
 ],
 "metadata": {
  "kernelspec": {
   "display_name": ".venv",
   "language": "python",
   "name": "python3"
  },
  "language_info": {
   "codemirror_mode": {
    "name": "ipython",
    "version": 3
   },
   "file_extension": ".py",
   "mimetype": "text/x-python",
   "name": "python",
   "nbconvert_exporter": "python",
   "pygments_lexer": "ipython3",
   "version": "3.14.0"
  }
 },
 "nbformat": 4,
 "nbformat_minor": 5
}
