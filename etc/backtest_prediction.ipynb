{
 "cells": [
  {
   "cell_type": "code",
   "execution_count": 3,
   "id": "969145ac",
   "metadata": {},
   "outputs": [],
   "source": [
    "import polars as pl\n",
    "import pandas as pd\n",
    "import numpy as np\n",
    "import matplotlib.pyplot as plt"
   ]
  },
  {
   "cell_type": "code",
   "execution_count": 15,
   "id": "a44a836c",
   "metadata": {},
   "outputs": [
    {
     "data": {
      "text/html": [
       "<div><style>\n",
       ".dataframe > thead > tr,\n",
       ".dataframe > tbody > tr {\n",
       "  text-align: right;\n",
       "  white-space: pre-wrap;\n",
       "}\n",
       "</style>\n",
       "<small>shape: (35, 2)</small><table border=\"1\" class=\"dataframe\"><thead><tr><th>Symbols</th><th>Weights</th></tr><tr><td>str</td><td>f64</td></tr></thead><tbody><tr><td>&quot;2259&quot;</td><td>0.19861</td></tr><tr><td>&quot;2561&quot;</td><td>0.133856</td></tr><tr><td>&quot;2510&quot;</td><td>0.090365</td></tr><tr><td>&quot;236A&quot;</td><td>0.084106</td></tr><tr><td>&quot;1482&quot;</td><td>0.072203</td></tr><tr><td>&hellip;</td><td>&hellip;</td></tr><tr><td>&quot;3038&quot;</td><td>0.007049</td></tr><tr><td>&quot;4317&quot;</td><td>0.006123</td></tr><tr><td>&quot;5843&quot;</td><td>0.005298</td></tr><tr><td>&quot;277A&quot;</td><td>0.00228</td></tr><tr><td>&quot;9421&quot;</td><td>0.001842</td></tr></tbody></table></div>"
      ],
      "text/plain": [
       "shape: (35, 2)\n",
       "┌─────────┬──────────┐\n",
       "│ Symbols ┆ Weights  │\n",
       "│ ---     ┆ ---      │\n",
       "│ str     ┆ f64      │\n",
       "╞═════════╪══════════╡\n",
       "│ 2259    ┆ 0.19861  │\n",
       "│ 2561    ┆ 0.133856 │\n",
       "│ 2510    ┆ 0.090365 │\n",
       "│ 236A    ┆ 0.084106 │\n",
       "│ 1482    ┆ 0.072203 │\n",
       "│ …       ┆ …        │\n",
       "│ 3038    ┆ 0.007049 │\n",
       "│ 4317    ┆ 0.006123 │\n",
       "│ 5843    ┆ 0.005298 │\n",
       "│ 277A    ┆ 0.00228  │\n",
       "│ 9421    ┆ 0.001842 │\n",
       "└─────────┴──────────┘"
      ]
     },
     "execution_count": 15,
     "metadata": {},
     "output_type": "execute_result"
    }
   ],
   "source": [
    "weights = pl.read_csv(\"../results/stock/optimized_portfolio_weights.csv\").filter(pl.col(\"Weights\") > 0)\n",
    "weights"
   ]
  },
  {
   "cell_type": "code",
   "execution_count": 21,
   "id": "07f93d37",
   "metadata": {},
   "outputs": [],
   "source": [
    "dfs = [pl.read_csv(f\"../data/stock/{ticker}.csv\").with_columns((pl.col(\"Date\").str.to_datetime(\"%Y-%m-%d\"))).select([\"Date\", \"Close\"]).rename({\"Close\": ticker}).to_pandas().set_index(\"Date\") for ticker in weights['Symbols'].to_list()]"
   ]
  },
  {
   "cell_type": "code",
   "execution_count": 25,
   "id": "79d821ec",
   "metadata": {},
   "outputs": [
    {
     "data": {
      "text/html": [
       "<div><style>\n",
       ".dataframe > thead > tr,\n",
       ".dataframe > tbody > tr {\n",
       "  text-align: right;\n",
       "  white-space: pre-wrap;\n",
       "}\n",
       "</style>\n",
       "<small>shape: (124, 36)</small><table border=\"1\" class=\"dataframe\"><thead><tr><th>Date</th><th>2259</th><th>2561</th><th>2510</th><th>236A</th><th>1482</th><th>314A</th><th>253A</th><th>6964</th><th>300A</th><th>261A</th><th>3475</th><th>247A</th><th>2169</th><th>276A</th><th>2246</th><th>4769</th><th>7782</th><th>1383</th><th>2978</th><th>4536</th><th>4661</th><th>4528</th><th>9878</th><th>3750</th><th>7769</th><th>281A</th><th>2820</th><th>7043</th><th>6226</th><th>4894</th><th>3038</th><th>4317</th><th>5843</th><th>277A</th><th>9421</th></tr><tr><td>datetime[μs]</td><td>f64</td><td>f64</td><td>f64</td><td>f64</td><td>f64</td><td>f64</td><td>f64</td><td>f64</td><td>f64</td><td>f64</td><td>f64</td><td>f64</td><td>f64</td><td>f64</td><td>f64</td><td>f64</td><td>f64</td><td>f64</td><td>f64</td><td>f64</td><td>f64</td><td>f64</td><td>f64</td><td>f64</td><td>f64</td><td>f64</td><td>f64</td><td>f64</td><td>f64</td><td>f64</td><td>f64</td><td>f64</td><td>f64</td><td>f64</td><td>f64</td></tr></thead><tbody><tr><td>2025-01-16 00:00:00</td><td>189.111694</td><td>2300.592041</td><td>891.751343</td><td>485.288666</td><td>1588.489136</td><td>200.699997</td><td>641.0</td><td>519.070129</td><td>972.474304</td><td>1417.338501</td><td>857.0</td><td>3320.0</td><td>1725.537964</td><td>1972.0</td><td>728.11676</td><td>912.0</td><td>470.0</td><td>3220.0</td><td>771.0</td><td>1533.5</td><td>3340.457031</td><td>1576.467041</td><td>733.0</td><td>877.0</td><td>3922.853516</td><td>1005.0</td><td>3127.455078</td><td>608.0</td><td>2475.0</td><td>4920.0</td><td>3432.0</td><td>393.0</td><td>1229.0</td><td>1946.0</td><td>482.0</td></tr><tr><td>2025-01-17 00:00:00</td><td>189.407501</td><td>2300.592041</td><td>889.858459</td><td>486.283142</td><td>1593.394897</td><td>201.399994</td><td>645.0</td><td>523.903198</td><td>969.521423</td><td>1428.203003</td><td>859.0</td><td>3200.0</td><td>1705.951904</td><td>2235.0</td><td>734.130981</td><td>906.0</td><td>463.0</td><td>3220.0</td><td>760.0</td><td>1536.0</td><td>3304.538086</td><td>1580.860962</td><td>715.0</td><td>873.0</td><td>3893.432129</td><td>1024.0</td><td>3201.918457</td><td>607.0</td><td>2493.0</td><td>4700.0</td><td>3510.0</td><td>395.0</td><td>1200.0</td><td>1920.0</td><td>483.0</td></tr><tr><td>2025-01-20 00:00:00</td><td>189.80188</td><td>2304.572266</td><td>890.456177</td><td>486.283142</td><td>1591.432617</td><td>201.5</td><td>654.0</td><td>525.836426</td><td>973.458557</td><td>1421.289185</td><td>877.0</td><td>3155.0</td><td>1719.662109</td><td>2432.0</td><td>736.102905</td><td>906.0</td><td>473.0</td><td>3220.0</td><td>756.0</td><td>1561.0</td><td>3309.526855</td><td>1586.231445</td><td>725.0</td><td>878.0</td><td>3971.88916</td><td>1062.0</td><td>3201.918457</td><td>600.0</td><td>2442.0</td><td>4650.0</td><td>3440.0</td><td>397.0</td><td>1200.0</td><td>1834.0</td><td>495.0</td></tr><tr><td>2025-01-21 00:00:00</td><td>190.097687</td><td>2309.547852</td><td>893.743835</td><td>486.879822</td><td>1601.244141</td><td>202.0</td><td>648.0</td><td>527.769592</td><td>968.53717</td><td>1416.350708</td><td>880.0</td><td>3165.0</td><td>1723.579346</td><td>2300.0</td><td>736.102905</td><td>915.0</td><td>481.0</td><td>3220.0</td><td>755.0</td><td>1561.0</td><td>3310.524658</td><td>1576.467041</td><td>730.0</td><td>888.0</td><td>3878.721436</td><td>1109.0</td><td>3271.41748</td><td>605.0</td><td>2528.0</td><td>4560.0</td><td>3472.0</td><td>403.0</td><td>1227.0</td><td>1938.0</td><td>498.0</td></tr><tr><td>2025-01-22 00:00:00</td><td>190.196274</td><td>2309.547852</td><td>894.640503</td><td>485.885345</td><td>1597.319458</td><td>209.899994</td><td>649.0</td><td>523.903198</td><td>963.615723</td><td>1412.400024</td><td>887.0</td><td>3115.0</td><td>1735.331055</td><td>2440.0</td><td>737.581726</td><td>915.0</td><td>480.0</td><td>3260.0</td><td>775.0</td><td>1555.0</td><td>3329.481689</td><td>1562.308594</td><td>726.0</td><td>890.0</td><td>3805.167969</td><td>1085.0</td><td>3335.952148</td><td>598.0</td><td>2584.0</td><td>4490.0</td><td>3425.0</td><td>408.0</td><td>1239.0</td><td>1966.0</td><td>496.0</td></tr><tr><td>&hellip;</td><td>&hellip;</td><td>&hellip;</td><td>&hellip;</td><td>&hellip;</td><td>&hellip;</td><td>&hellip;</td><td>&hellip;</td><td>&hellip;</td><td>&hellip;</td><td>&hellip;</td><td>&hellip;</td><td>&hellip;</td><td>&hellip;</td><td>&hellip;</td><td>&hellip;</td><td>&hellip;</td><td>&hellip;</td><td>&hellip;</td><td>&hellip;</td><td>&hellip;</td><td>&hellip;</td><td>&hellip;</td><td>&hellip;</td><td>&hellip;</td><td>&hellip;</td><td>&hellip;</td><td>&hellip;</td><td>&hellip;</td><td>&hellip;</td><td>&hellip;</td><td>&hellip;</td><td>&hellip;</td><td>&hellip;</td><td>&hellip;</td><td>&hellip;</td></tr><tr><td>2025-07-10 00:00:00</td><td>191.300003</td><td>2192.0</td><td>865.200012</td><td>480.200012</td><td>1616.0</td><td>230.899994</td><td>784.0</td><td>564.0</td><td>2370.0</td><td>2825.0</td><td>1167.0</td><td>6370.0</td><td>1760.0</td><td>6330.0</td><td>742.5</td><td>1013.0</td><td>577.0</td><td>2920.0</td><td>587.0</td><td>1649.0</td><td>3074.0</td><td>1591.0</td><td>1350.0</td><td>896.0</td><td>3015.0</td><td>1032.0</td><td>4695.0</td><td>773.0</td><td>4075.0</td><td>6170.0</td><td>4324.0</td><td>454.0</td><td>2245.0</td><td>2600.0</td><td>615.0</td></tr><tr><td>2025-07-11 00:00:00</td><td>190.899994</td><td>2200.0</td><td>867.5</td><td>480.200012</td><td>1628.0</td><td>232.699997</td><td>791.0</td><td>564.0</td><td>2326.0</td><td>2831.0</td><td>1147.0</td><td>6690.0</td><td>1761.0</td><td>6120.0</td><td>742.5</td><td>1010.0</td><td>572.0</td><td>2934.0</td><td>592.0</td><td>1634.5</td><td>3054.0</td><td>1612.5</td><td>1271.0</td><td>910.0</td><td>3025.0</td><td>1027.0</td><td>4705.0</td><td>772.0</td><td>3940.0</td><td>6180.0</td><td>4290.0</td><td>462.0</td><td>2189.0</td><td>2629.0</td><td>607.0</td></tr><tr><td>2025-07-14 00:00:00</td><td>190.300003</td><td>2192.0</td><td>866.0</td><td>478.0</td><td>1621.0</td><td>234.800003</td><td>842.0</td><td>559.0</td><td>2280.0</td><td>2821.0</td><td>1149.0</td><td>6390.0</td><td>1758.0</td><td>6460.0</td><td>738.5</td><td>1009.0</td><td>600.0</td><td>2954.0</td><td>586.0</td><td>1644.5</td><td>3016.0</td><td>1638.5</td><td>1430.0</td><td>920.0</td><td>3025.0</td><td>997.0</td><td>4645.0</td><td>768.0</td><td>4025.0</td><td>6110.0</td><td>4293.0</td><td>468.0</td><td>2250.0</td><td>2643.0</td><td>604.0</td></tr><tr><td>2025-07-15 00:00:00</td><td>190.100006</td><td>2184.0</td><td>863.400024</td><td>476.600006</td><td>1622.0</td><td>235.5</td><td>830.0</td><td>563.0</td><td>2166.0</td><td>2783.0</td><td>1146.0</td><td>6050.0</td><td>1756.0</td><td>5460.0</td><td>738.5</td><td>1011.0</td><td>638.0</td><td>2964.0</td><td>581.0</td><td>1663.0</td><td>2996.0</td><td>1661.5</td><td>1428.0</td><td>916.0</td><td>3020.0</td><td>1135.0</td><td>4700.0</td><td>770.0</td><td>4100.0</td><td>5940.0</td><td>4292.0</td><td>522.0</td><td>2225.0</td><td>2510.0</td><td>609.0</td></tr><tr><td>2025-07-16 00:00:00</td><td>190.100006</td><td>2186.0</td><td>866.0</td><td>476.700012</td><td>1617.0</td><td>236.0</td><td>824.0</td><td>560.0</td><td>2245.0</td><td>2724.0</td><td>1112.0</td><td>6330.0</td><td>1752.0</td><td>5510.0</td><td>736.700012</td><td>1009.0</td><td>645.0</td><td>2977.0</td><td>582.0</td><td>1660.0</td><td>3007.0</td><td>1660.0</td><td>1317.0</td><td>905.0</td><td>3000.0</td><td>1435.0</td><td>4690.0</td><td>775.0</td><td>4045.0</td><td>6210.0</td><td>4304.0</td><td>511.0</td><td>2254.0</td><td>2622.0</td><td>603.0</td></tr></tbody></table></div>"
      ],
      "text/plain": [
       "shape: (124, 36)\n",
       "┌──────────────┬────────────┬─────────────┬────────────┬───┬───────┬────────┬────────┬───────┐\n",
       "│ Date         ┆ 2259       ┆ 2561        ┆ 2510       ┆ … ┆ 4317  ┆ 5843   ┆ 277A   ┆ 9421  │\n",
       "│ ---          ┆ ---        ┆ ---         ┆ ---        ┆   ┆ ---   ┆ ---    ┆ ---    ┆ ---   │\n",
       "│ datetime[μs] ┆ f64        ┆ f64         ┆ f64        ┆   ┆ f64   ┆ f64    ┆ f64    ┆ f64   │\n",
       "╞══════════════╪════════════╪═════════════╪════════════╪═══╪═══════╪════════╪════════╪═══════╡\n",
       "│ 2025-01-16   ┆ 189.111694 ┆ 2300.592041 ┆ 891.751343 ┆ … ┆ 393.0 ┆ 1229.0 ┆ 1946.0 ┆ 482.0 │\n",
       "│ 00:00:00     ┆            ┆             ┆            ┆   ┆       ┆        ┆        ┆       │\n",
       "│ 2025-01-17   ┆ 189.407501 ┆ 2300.592041 ┆ 889.858459 ┆ … ┆ 395.0 ┆ 1200.0 ┆ 1920.0 ┆ 483.0 │\n",
       "│ 00:00:00     ┆            ┆             ┆            ┆   ┆       ┆        ┆        ┆       │\n",
       "│ 2025-01-20   ┆ 189.80188  ┆ 2304.572266 ┆ 890.456177 ┆ … ┆ 397.0 ┆ 1200.0 ┆ 1834.0 ┆ 495.0 │\n",
       "│ 00:00:00     ┆            ┆             ┆            ┆   ┆       ┆        ┆        ┆       │\n",
       "│ 2025-01-21   ┆ 190.097687 ┆ 2309.547852 ┆ 893.743835 ┆ … ┆ 403.0 ┆ 1227.0 ┆ 1938.0 ┆ 498.0 │\n",
       "│ 00:00:00     ┆            ┆             ┆            ┆   ┆       ┆        ┆        ┆       │\n",
       "│ 2025-01-22   ┆ 190.196274 ┆ 2309.547852 ┆ 894.640503 ┆ … ┆ 408.0 ┆ 1239.0 ┆ 1966.0 ┆ 496.0 │\n",
       "│ 00:00:00     ┆            ┆             ┆            ┆   ┆       ┆        ┆        ┆       │\n",
       "│ …            ┆ …          ┆ …           ┆ …          ┆ … ┆ …     ┆ …      ┆ …      ┆ …     │\n",
       "│ 2025-07-10   ┆ 191.300003 ┆ 2192.0      ┆ 865.200012 ┆ … ┆ 454.0 ┆ 2245.0 ┆ 2600.0 ┆ 615.0 │\n",
       "│ 00:00:00     ┆            ┆             ┆            ┆   ┆       ┆        ┆        ┆       │\n",
       "│ 2025-07-11   ┆ 190.899994 ┆ 2200.0      ┆ 867.5      ┆ … ┆ 462.0 ┆ 2189.0 ┆ 2629.0 ┆ 607.0 │\n",
       "│ 00:00:00     ┆            ┆             ┆            ┆   ┆       ┆        ┆        ┆       │\n",
       "│ 2025-07-14   ┆ 190.300003 ┆ 2192.0      ┆ 866.0      ┆ … ┆ 468.0 ┆ 2250.0 ┆ 2643.0 ┆ 604.0 │\n",
       "│ 00:00:00     ┆            ┆             ┆            ┆   ┆       ┆        ┆        ┆       │\n",
       "│ 2025-07-15   ┆ 190.100006 ┆ 2184.0      ┆ 863.400024 ┆ … ┆ 522.0 ┆ 2225.0 ┆ 2510.0 ┆ 609.0 │\n",
       "│ 00:00:00     ┆            ┆             ┆            ┆   ┆       ┆        ┆        ┆       │\n",
       "│ 2025-07-16   ┆ 190.100006 ┆ 2186.0      ┆ 866.0      ┆ … ┆ 511.0 ┆ 2254.0 ┆ 2622.0 ┆ 603.0 │\n",
       "│ 00:00:00     ┆            ┆             ┆            ┆   ┆       ┆        ┆        ┆       │\n",
       "└──────────────┴────────────┴─────────────┴────────────┴───┴───────┴────────┴────────┴───────┘"
      ]
     },
     "execution_count": 25,
     "metadata": {},
     "output_type": "execute_result"
    }
   ],
   "source": [
    "df = pl.from_pandas(pd.concat(dfs, axis=1, join = \"outer\"), include_index = True).fill_null(strategy = \"forward\").drop_nulls()\n",
    "df"
   ]
  },
  {
   "cell_type": "code",
   "execution_count": 23,
   "id": "f3d9a64b",
   "metadata": {},
   "outputs": [
    {
     "data": {
      "text/html": [
       "<div><style>\n",
       ".dataframe > thead > tr,\n",
       ".dataframe > tbody > tr {\n",
       "  text-align: right;\n",
       "  white-space: pre-wrap;\n",
       "}\n",
       "</style>\n",
       "<small>shape: (312, 9)</small><table border=\"1\" class=\"dataframe\"><thead><tr><th>Date</th><th>Open</th><th>High</th><th>Low</th><th>Close</th><th>Volume</th><th>Dividends</th><th>Stock Splits</th><th>Capital Gains</th></tr><tr><td>str</td><td>f64</td><td>f64</td><td>f64</td><td>f64</td><td>i64</td><td>f64</td><td>f64</td><td>f64</td></tr></thead><tbody><tr><td>&quot;2023-04-26&quot;</td><td>873.306362</td><td>873.306362</td><td>781.124023</td><td>781.124023</td><td>140</td><td>0.0</td><td>0.0</td><td>0.0</td></tr><tr><td>&quot;2023-04-27&quot;</td><td>784.034994</td><td>784.034994</td><td>778.212952</td><td>778.212952</td><td>570</td><td>0.0</td><td>0.0</td><td>0.0</td></tr><tr><td>&quot;2023-04-28&quot;</td><td>776.272278</td><td>776.272278</td><td>776.272278</td><td>776.272278</td><td>100</td><td>0.0</td><td>0.0</td><td>0.0</td></tr><tr><td>&quot;2023-05-02&quot;</td><td>776.272389</td><td>779.183411</td><td>776.272389</td><td>779.183411</td><td>50</td><td>0.0</td><td>0.0</td><td>0.0</td></tr><tr><td>&quot;2023-05-10&quot;</td><td>780.153625</td><td>780.153625</td><td>780.153625</td><td>780.153625</td><td>30</td><td>0.0</td><td>0.0</td><td>0.0</td></tr><tr><td>&hellip;</td><td>&hellip;</td><td>&hellip;</td><td>&hellip;</td><td>&hellip;</td><td>&hellip;</td><td>&hellip;</td><td>&hellip;</td><td>&hellip;</td></tr><tr><td>&quot;2025-07-08&quot;</td><td>745.900024</td><td>745.900024</td><td>742.599976</td><td>742.599976</td><td>140</td><td>0.0</td><td>0.0</td><td>0.0</td></tr><tr><td>&quot;2025-07-09&quot;</td><td>753.5</td><td>753.5</td><td>741.900024</td><td>741.900024</td><td>130</td><td>0.0</td><td>0.0</td><td>0.0</td></tr><tr><td>&quot;2025-07-10&quot;</td><td>743.599976</td><td>743.599976</td><td>742.5</td><td>742.5</td><td>60</td><td>0.0</td><td>0.0</td><td>0.0</td></tr><tr><td>&quot;2025-07-14&quot;</td><td>742.5</td><td>742.5</td><td>738.5</td><td>738.5</td><td>130</td><td>0.0</td><td>0.0</td><td>0.0</td></tr><tr><td>&quot;2025-07-16&quot;</td><td>723.5</td><td>738.900024</td><td>723.5</td><td>736.700012</td><td>220</td><td>0.0</td><td>0.0</td><td>0.0</td></tr></tbody></table></div>"
      ],
      "text/plain": [
       "shape: (312, 9)\n",
       "┌─────────────┬─────────────┬─────────────┬────────────┬───┬────────┬───────────┬────────┬─────────┐\n",
       "│ Date        ┆ Open        ┆ High        ┆ Low        ┆ … ┆ Volume ┆ Dividends ┆ Stock  ┆ Capital │\n",
       "│ ---         ┆ ---         ┆ ---         ┆ ---        ┆   ┆ ---    ┆ ---       ┆ Splits ┆ Gains   │\n",
       "│ str         ┆ f64         ┆ f64         ┆ f64        ┆   ┆ i64    ┆ f64       ┆ ---    ┆ ---     │\n",
       "│             ┆             ┆             ┆            ┆   ┆        ┆           ┆ f64    ┆ f64     │\n",
       "╞═════════════╪═════════════╪═════════════╪════════════╪═══╪════════╪═══════════╪════════╪═════════╡\n",
       "│ 2023-04-26  ┆ 873.306362  ┆ 873.306362  ┆ 781.124023 ┆ … ┆ 140    ┆ 0.0       ┆ 0.0    ┆ 0.0     │\n",
       "│ 2023-04-27  ┆ 784.034994  ┆ 784.034994  ┆ 778.212952 ┆ … ┆ 570    ┆ 0.0       ┆ 0.0    ┆ 0.0     │\n",
       "│ 2023-04-28  ┆ 776.272278  ┆ 776.272278  ┆ 776.272278 ┆ … ┆ 100    ┆ 0.0       ┆ 0.0    ┆ 0.0     │\n",
       "│ 2023-05-02  ┆ 776.272389  ┆ 779.183411  ┆ 776.272389 ┆ … ┆ 50     ┆ 0.0       ┆ 0.0    ┆ 0.0     │\n",
       "│ 2023-05-10  ┆ 780.153625  ┆ 780.153625  ┆ 780.153625 ┆ … ┆ 30     ┆ 0.0       ┆ 0.0    ┆ 0.0     │\n",
       "│ …           ┆ …           ┆ …           ┆ …          ┆ … ┆ …      ┆ …         ┆ …      ┆ …       │\n",
       "│ 2025-07-08  ┆ 745.900024  ┆ 745.900024  ┆ 742.599976 ┆ … ┆ 140    ┆ 0.0       ┆ 0.0    ┆ 0.0     │\n",
       "│ 2025-07-09  ┆ 753.5       ┆ 753.5       ┆ 741.900024 ┆ … ┆ 130    ┆ 0.0       ┆ 0.0    ┆ 0.0     │\n",
       "│ 2025-07-10  ┆ 743.599976  ┆ 743.599976  ┆ 742.5      ┆ … ┆ 60     ┆ 0.0       ┆ 0.0    ┆ 0.0     │\n",
       "│ 2025-07-14  ┆ 742.5       ┆ 742.5       ┆ 738.5      ┆ … ┆ 130    ┆ 0.0       ┆ 0.0    ┆ 0.0     │\n",
       "│ 2025-07-16  ┆ 723.5       ┆ 738.900024  ┆ 723.5      ┆ … ┆ 220    ┆ 0.0       ┆ 0.0    ┆ 0.0     │\n",
       "└─────────────┴─────────────┴─────────────┴────────────┴───┴────────┴───────────┴────────┴─────────┘"
      ]
     },
     "execution_count": 23,
     "metadata": {},
     "output_type": "execute_result"
    }
   ],
   "source": [
    "pl.read_csv(f\"../data/stock/2246.csv\")"
   ]
  }
 ],
 "metadata": {
  "kernelspec": {
   "display_name": ".venv",
   "language": "python",
   "name": "python3"
  },
  "language_info": {
   "codemirror_mode": {
    "name": "ipython",
    "version": 3
   },
   "file_extension": ".py",
   "mimetype": "text/x-python",
   "name": "python",
   "nbconvert_exporter": "python",
   "pygments_lexer": "ipython3",
   "version": "3.14.0"
  }
 },
 "nbformat": 4,
 "nbformat_minor": 5
}
